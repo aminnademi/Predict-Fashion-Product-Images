{
 "cells": [
  {
   "cell_type": "markdown",
   "id": "b5b46ed2",
   "metadata": {},
   "source": [
    "# Mount Google Drive"
   ]
  },
  {
   "cell_type": "code",
   "execution_count": null,
   "id": "6c4863e0",
   "metadata": {},
   "outputs": [
    {
     "name": "stdout",
     "output_type": "stream",
     "text": [
      "Mounted at /content/drive\n"
     ]
    }
   ],
   "source": [
    "from google.colab import drive\n",
    "drive.mount('/content/drive')"
   ]
  },
  {
   "cell_type": "markdown",
   "id": "d42e5d69",
   "metadata": {},
   "source": [
    "# Kaggle API Setup"
   ]
  },
  {
   "cell_type": "code",
   "execution_count": null,
   "id": "0437fb06",
   "metadata": {},
   "outputs": [
    {
     "name": "stdout",
     "output_type": "stream",
     "text": [
      "\n"
     ]
    }
   ],
   "source": [
    "!pip install --quiet kaggle\n",
    "!cp kaggle.json ~/.kaggle/\n",
    "!chmod 600 ~/.kaggle/kaggle.json"
   ]
  },
  {
   "cell_type": "markdown",
   "id": "2bb92b95",
   "metadata": {},
   "source": [
    "# Download Dataset"
   ]
  },
  {
   "cell_type": "code",
   "execution_count": null,
   "id": "664e7d48",
   "metadata": {},
   "outputs": [
    {
     "name": "stdout",
     "output_type": "stream",
     "text": [
      "Dataset URL: https://www.kaggle.com/datasets/paramaggarwal/fashion-product-images-small\n",
      "License(s): MIT\n",
      "Downloading fashion-product-images-small.zip to /content/drive/MyDrive/fashion_data\n",
      " 96% 541M/565M [00:04<00:00, 69.0MB/s]\n",
      "100% 565M/565M [00:04<00:00, 126MB/s] \n"
     ]
    }
   ],
   "source": [
    "DATA_DIR= '/content/drive/MyDrive/fashion_data'\n",
    "!kaggle datasets download -d paramaggarwal/fashion-product-images-small -p $DATA_DIR"
   ]
  }
 ],
 "metadata": {
  "language_info": {
   "name": "python"
  }
 },
 "nbformat": 4,
 "nbformat_minor": 5
}
